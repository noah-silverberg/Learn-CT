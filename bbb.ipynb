{
 "cells": [
  {
   "cell_type": "code",
   "execution_count": 1,
   "id": "74d57df9",
   "metadata": {},
   "outputs": [
    {
     "name": "stdout",
     "output_type": "stream",
     "text": [
      "Running on cpu\n"
     ]
    },
    {
     "data": {
      "text/plain": [
       "<torch._C.Generator at 0x125deb390>"
      ]
     },
     "execution_count": 1,
     "metadata": {},
     "output_type": "execute_result"
    }
   ],
   "source": [
    "# =========================================================\n",
    "# Cell 1 : imports & device\n",
    "# =========================================================\n",
    "import torch, torch.nn as nn, torch.nn.functional as F\n",
    "from torch.utils.data import DataLoader, random_split\n",
    "from torchvision import datasets, transforms\n",
    "import matplotlib.pyplot as plt, numpy as np\n",
    "\n",
    "DEVICE = \"cuda\" if torch.cuda.is_available() else \"cpu\"\n",
    "print(\"Running on\", DEVICE)\n",
    "torch.manual_seed(0)"
   ]
  },
  {
   "cell_type": "code",
   "execution_count": 2,
   "id": "e4272ea8",
   "metadata": {},
   "outputs": [],
   "source": [
    "# =========================================================\n",
    "# Cell 2 : MNIST subset  (transform to [0,1] tensor)\n",
    "# =========================================================\n",
    "mnist_train = datasets.MNIST(\"./data\", train=True , download=True,\n",
    "                             transform=transforms.ToTensor())\n",
    "mnist_test  = datasets.MNIST(\"./data\", train=False, download=True,\n",
    "                             transform=transforms.ToTensor())\n",
    "\n",
    "train_ds, _  = random_split(mnist_train, [10_000, len(mnist_train)-10_000])\n",
    "test_ds , _  = random_split(mnist_test , [2_000 , len(mnist_test )-2_000])\n",
    "\n",
    "train_loader = DataLoader(train_ds, batch_size=256, shuffle=True)\n",
    "test_loader  = DataLoader(test_ds , batch_size=512, shuffle=False)"
   ]
  },
  {
   "cell_type": "code",
   "execution_count": 3,
   "id": "28cddc6b",
   "metadata": {},
   "outputs": [],
   "source": [
    "# =========================================================\n",
    "# Cell 3 : Bayes-by-Backprop dense layer\n",
    "#         Each weight & bias gets (μ, ρ) → σ = softplus(ρ)\n",
    "# =========================================================\n",
    "class BayesianLinear(nn.Module):\n",
    "    def __init__(self, in_features, out_features):\n",
    "        super().__init__()\n",
    "        # weight params\n",
    "        self.mu_w   = nn.Parameter(torch.empty(out_features, in_features).normal_(0, 0.05))\n",
    "        self.rho_w  = nn.Parameter(torch.full((out_features, in_features), -3.0))\n",
    "        # bias params\n",
    "        self.mu_b   = nn.Parameter(torch.zeros(out_features))\n",
    "        self.rho_b  = nn.Parameter(torch.full((out_features,), -3.0))\n",
    "        # prior std (fixed)\n",
    "        self.prior_sigma = 1.0\n",
    "\n",
    "    def _sample_weight(self, mu, rho):\n",
    "        sigma = torch.nn.functional.softplus(rho)\n",
    "        eps   = torch.randn_like(mu)\n",
    "        return mu + sigma * eps, sigma\n",
    "\n",
    "    def forward(self, x):\n",
    "        w, sigma_w = self._sample_weight(self.mu_w, self.rho_w)\n",
    "        b, sigma_b = self._sample_weight(self.mu_b, self.rho_b)\n",
    "        self._kl = self.kl_divergence(w, self.mu_w, sigma_w) + \\\n",
    "                   self.kl_divergence(b, self.mu_b, sigma_b)\n",
    "        return F.linear(x, w, b)\n",
    "\n",
    "    def kl_divergence(self, sample, mu, sigma):\n",
    "        # KL between N(mu,sigma^2) and standard normal N(0,1)\n",
    "        prior_sigma = self.prior_sigma\n",
    "        return (torch.log(prior_sigma/sigma) +\n",
    "                (sigma**2 + mu**2) / (2*prior_sigma**2) - 0.5).sum()"
   ]
  },
  {
   "cell_type": "code",
   "execution_count": null,
   "id": "a56cacad",
   "metadata": {},
   "outputs": [],
   "source": [
    "# =========================================================\n",
    "# Cell 4 : Tiny BNN for 28×28 images → 10 classes\n",
    "# =========================================================\n",
    "class BNN(nn.Module):\n",
    "    def __init__(self):\n",
    "        super().__init__()\n",
    "        self.b1 = BayesianLinear(28*28, 200)\n",
    "        self.b2 = BayesianLinear(200, 200)\n",
    "        self.b3 = BayesianLinear(200,  10)\n",
    "\n",
    "    def forward(self, x):\n",
    "        x = x.view(-1, 28*28)\n",
    "        x = torch.relu(self.b1(x))\n",
    "        x = torch.relu(self.b2(x))\n",
    "        x = self.b3(x)\n",
    "        # accumulate KL from each Bayesian layer\n",
    "        self.kl = self.b1._kl + self.b2._kl + self.b3._kl\n",
    "        return x"
   ]
  },
  {
   "cell_type": "code",
   "execution_count": 5,
   "id": "968fa4c1",
   "metadata": {},
   "outputs": [],
   "source": [
    "# =========================================================\n",
    "# Cell 5 : negative ELBO (classification)\n",
    "# =========================================================\n",
    "def elbo_loss(logits, y, kl, beta=1.0):\n",
    "    # cross-entropy = −log p(y|x, w)\n",
    "    likelihood = F.cross_entropy(logits, y, reduction='mean')\n",
    "    kl_term    = kl / len(y)           # average per-sample KL\n",
    "    return likelihood + beta * kl_term, likelihood, kl_term"
   ]
  },
  {
   "cell_type": "code",
   "execution_count": null,
   "id": "bf9b4d89",
   "metadata": {},
   "outputs": [
    {
     "name": "stdout",
     "output_type": "stream",
     "text": [
      "Epoch 5: CE 0.420  KL 1944.836\n",
      "Epoch 10: CE 0.254  KL 1843.632\n",
      "Epoch 15: CE 0.191  KL 1731.344\n",
      "Epoch 20: CE 0.159  KL 1616.666\n",
      "Epoch 25: CE 0.171  KL 1502.984\n",
      "Epoch 30: CE 0.180  KL 1391.917\n",
      "Epoch 35: CE 0.170  KL 1283.911\n",
      "Epoch 40: CE 0.215  KL 1179.312\n",
      "Epoch 45: CE 0.231  KL 1078.728\n",
      "Epoch 50: CE 0.283  KL 982.095\n"
     ]
    }
   ],
   "source": [
    "# =========================================================\n",
    "# Cell 6 : train for a few epochs (≈5 min CPU)\n",
    "# =========================================================\n",
    "model = BNN().to(DEVICE)\n",
    "optimizer = torch.optim.Adam([p for p in model.parameters() if p.requires_grad], lr=1e-3)\n",
    "EPOCHS = 50\n",
    "history = []\n",
    "\n",
    "for epoch in range(1, EPOCHS+1):\n",
    "    model.train()\n",
    "    total, ce_sum, kl_sum = 0, 0, 0\n",
    "    for xb, yb in train_loader:\n",
    "        xb, yb = xb.to(DEVICE), yb.to(DEVICE)\n",
    "        logits = model(xb)\n",
    "        loss, ce, kl = elbo_loss(logits, yb, model.kl, beta=epoch / EPOCHS / 10) # gradually increase beta\n",
    "        optimizer.zero_grad(); loss.backward(); optimizer.step()\n",
    "\n",
    "        n = len(yb)\n",
    "        total += n; ce_sum += ce.item()*n; kl_sum += kl.item()*n\n",
    "\n",
    "    if epoch % 5 == 0 or epoch == EPOCHS:\n",
    "        print(f\"Epoch {epoch}: CE {ce_sum/total:.3f}  KL {kl_sum/total:.3f}\")\n",
    "    history.append((ce_sum/total, kl_sum/total))"
   ]
  },
  {
   "cell_type": "code",
   "execution_count": 18,
   "id": "9d188d76",
   "metadata": {},
   "outputs": [
    {
     "name": "stdout",
     "output_type": "stream",
     "text": [
      "Test accuracy: 94.80%\n"
     ]
    }
   ],
   "source": [
    "# =========================================================\n",
    "# Cell 7 : evaluate accuracy & entropy-based uncertainty\n",
    "# =========================================================\n",
    "def mc_predict(x, T=20):\n",
    "    \"\"\"Monte-Carlo forward passes → mean probs and predictive entropy.\"\"\"\n",
    "    probs = []\n",
    "    for _ in range(T):\n",
    "        logits = model(x)\n",
    "        probs.append(torch.softmax(logits, dim=1))\n",
    "    probs = torch.stack(probs)           # [T,B,C]\n",
    "    mean_p = probs.mean(0)               # [B,C]\n",
    "    entropy = -(mean_p * mean_p.log()).sum(1)   # predictive entropy\n",
    "    return mean_p, entropy\n",
    "\n",
    "model.eval()\n",
    "correct, total = 0, 0\n",
    "all_entropy, all_correct = [], []\n",
    "\n",
    "with torch.no_grad():\n",
    "    for xb, yb in test_loader:\n",
    "        xb, yb = xb.to(DEVICE), yb.to(DEVICE)\n",
    "        mean_p, entropy = mc_predict(xb, T=30)\n",
    "        preds = mean_p.argmax(1)\n",
    "        correct += (preds == yb).sum().item()\n",
    "        total   += len(yb)\n",
    "        all_entropy.extend(entropy.cpu().numpy())\n",
    "        all_correct.extend((preds == yb).cpu().numpy())\n",
    "\n",
    "print(f\"Test accuracy: {correct/total*100:.2f}%\")"
   ]
  },
  {
   "cell_type": "code",
   "execution_count": 20,
   "id": "28433173",
   "metadata": {},
   "outputs": [
    {
     "data": {
      "image/png": "[encoded data removed]",
      "text/plain": [
       "<Figure size 600x400 with 1 Axes>"
      ]
     },
     "metadata": {},
     "output_type": "display_data"
    }
   ],
   "source": [
    "# =========================================================\n",
    "# Cell 8 : uncertainty histogram\n",
    "# =========================================================\n",
    "plt.figure(figsize=(6,4))\n",
    "plt.hist([e for e,c in zip(all_entropy, all_correct) if c], bins=30, alpha=0.6, label=\"correct\")\n",
    "plt.hist([e for e,c in zip(all_entropy, all_correct) if not c], bins=30, alpha=0.6, label=\"wrong\")\n",
    "plt.xlabel(\"Predictive entropy\"); plt.ylabel(\"count\")\n",
    "plt.title(\"BNN predictive uncertainty: correct vs wrong\")\n",
    "plt.yscale('log')\n",
    "plt.legend(); plt.tight_layout(); plt.show()"
   ]
  },
  {
   "cell_type": "code",
   "execution_count": null,
   "id": "17728866",
   "metadata": {},
   "outputs": [],
   "source": []
  }
 ],
 "metadata": {
  "kernelspec": {
   "display_name": "numpy",
   "language": "python",
   "name": "python3"
  },
  "language_info": {
   "codemirror_mode": {
    "name": "ipython",
    "version": 3
   },
   "file_extension": ".py",
   "mimetype": "text/x-python",
   "name": "python",
   "nbconvert_exporter": "python",
   "pygments_lexer": "ipython3",
   "version": "3.10.14"
  }
 },
 "nbformat": 4,
 "nbformat_minor": 5
}
